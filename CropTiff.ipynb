{
 "cells": [
  {
   "cell_type": "code",
   "execution_count": 44,
   "id": "7e30ade7",
   "metadata": {},
   "outputs": [],
   "source": [
    "import shapely\n",
    "import geopandas as gpd\n",
    "import matplotlib.pyplot as plt\n",
    "import shapefile as sh"
   ]
  },
  {
   "cell_type": "code",
   "execution_count": 41,
   "id": "cf0f288c",
   "metadata": {},
   "outputs": [
    {
     "data": {
      "text/plain": [
       "[('DeletionFlag', 'C', 1, 0),\n",
       " ['ID_PROC', 'F', 19, 11],\n",
       " ['ID_tree', 'F', 19, 11],\n",
       " ['CONIF', 'F', 19, 11],\n",
       " ['SEL', 'F', 19, 11],\n",
       " ['X_ACHSE', 'C', 10, 0],\n",
       " ['Y_ACHSE', 'C', 10, 0],\n",
       " ['X_QUADRAT', 'C', 10, 0],\n",
       " ['Y_QUADRAT', 'C', 10, 0],\n",
       " ['PARZELLE', 'C', 10, 0],\n",
       " ['PARZELLE_1', 'C', 10, 0],\n",
       " ['ID_BA_1', 'C', 17, 0],\n",
       " ['BA_1_HERKU', 'C', 101, 0],\n",
       " ['BA_1_PFLAN', 'C', 10, 0],\n",
       " ['UMBAU', 'C', 10, 0],\n",
       " ['ID_BA_2', 'C', 10, 0],\n",
       " ['BA_2_HERKU', 'C', 10, 0],\n",
       " ['BA_2_PFLAN', 'C', 10, 0],\n",
       " ['BA_1_DOKU', 'C', 10, 0],\n",
       " ['BA_2_DOKU', 'C', 10, 0],\n",
       " ['BA_1_TAXON', 'C', 60, 0],\n",
       " ['BA_2_TAXON', 'C', 13, 0],\n",
       " ['BA_1_ART', 'C', 51, 0],\n",
       " ['BA_2_SYNON', 'C', 10, 0],\n",
       " ['BA_1_SYNON', 'C', 15, 0],\n",
       " ['BA_1_SYSTE', 'C', 10, 0],\n",
       " ['BA_2_SYSTE', 'C', 10, 0],\n",
       " ['BA_1_BOT_M', 'C', 10, 0],\n",
       " ['BA_2_BOT_M', 'C', 10, 0],\n",
       " ['BA_1_GEOGR', 'C', 10, 0],\n",
       " ['BA_2_GEOGR', 'C', 10, 0],\n",
       " ['BA_1_OEKOL', 'C', 10, 0],\n",
       " ['BA_2_OEKOL', 'C', 10, 0],\n",
       " ['BA_1_LINK_', 'C', 62, 0],\n",
       " ['BA_2_LINK_', 'C', 10, 0],\n",
       " ['BA_1_LINK1', 'C', 10, 0],\n",
       " ['BA_2_LINK1', 'C', 10, 0],\n",
       " ['BA_2_ART', 'C', 10, 0],\n",
       " ['LOCK__ID', 'F', 19, 11],\n",
       " ['KATEGORIE', 'F', 19, 11],\n",
       " ['Shape_Leng', 'F', 19, 11],\n",
       " ['Reinbst', 'F', 19, 11],\n",
       " ['Angepasst', 'F', 19, 11],\n",
       " ['PARZ_ID', 'F', 19, 11],\n",
       " ['z_chm', 'F', 19, 11],\n",
       " ['cut', 'F', 19, 11],\n",
       " ['z_q90', 'F', 19, 11],\n",
       " ['z_q95', 'F', 19, 11],\n",
       " ['z_q99', 'F', 19, 11],\n",
       " ['z_qmax', 'F', 19, 11],\n",
       " ['Area', 'F', 19, 11],\n",
       " ['BUFF_DIST', 'F', 19, 11],\n",
       " ['ORIG_FID', 'F', 19, 11],\n",
       " ['SOS', 'F', 19, 11],\n",
       " ['sd_SOS', 'F', 19, 11],\n",
       " ['EOS', 'F', 19, 11],\n",
       " ['EOS_sd', 'F', 19, 11],\n",
       " ['rq', 'F', 19, 11],\n",
       " ['X_Center', 'F', 19, 11],\n",
       " ['Y_Center', 'F', 19, 11]]"
      ]
     },
     "execution_count": 41,
     "metadata": {},
     "output_type": "execute_result"
    }
   ],
   "source": [
    "test = sh.Reader(\"D:/GIS_Data/Weltwald/EU_BOT_point.shp\")\n",
    "test.fields\n"
   ]
  },
  {
   "cell_type": "code",
   "execution_count": 46,
   "id": "84146d26",
   "metadata": {},
   "outputs": [],
   "source": [
    "'''\n",
    "生成矩形框\n",
    "'''\n",
    "test = sh.Reader(\"D:/GIS_Data/Weltwald/EU_BOT_point.shp\")\n",
    "\n",
    "out = 'test.shp'\n",
    "\n",
    "w = sh.Writer(out)\n",
    "w.field('tree species')\n",
    "\n",
    "width = 5\n",
    "length = 5\n",
    "for item in test.shapes():\n",
    "    x = item.points[0][0]\n",
    "    y = item.points[0][1]\n",
    "    x_left_up,y_left_up = x-width,y-length\n",
    "    x_left_down,y_left_down = x-width,y+length\n",
    "    x_right_up,y_right_up = x+width,y-length\n",
    "    x_right_down,y_right_down = x+width,y+length\n",
    "    w.poly([\n",
    "        [[x_left_up,y_left_up],[x_left_down,y_left_down],[x_right_down,y_right_down],[x_right_up,y_right_up]]\n",
    "    ])\n",
    "    w.record(str(item._Shape__oid))\n",
    "w.close()\n"
   ]
  },
  {
   "cell_type": "code",
   "execution_count": 47,
   "id": "16792083",
   "metadata": {},
   "outputs": [],
   "source": [
    "'''\n",
    "矩形框裁剪遥感影像\n",
    "'''\n",
    "\n",
    "import rasterio as rio\n",
    "from rasterio.mask import mask\n",
    "import numpy as np\n",
    "from PIL import Image\n",
    "import os\n"
   ]
  },
  {
   "cell_type": "code",
   "execution_count": 48,
   "id": "32926c7d",
   "metadata": {},
   "outputs": [],
   "source": [
    "shpdata = r'test.shp'\n",
    "shpdata = gpd.read_file(shpdata)\n",
    "# polygon = shpdata.geometry[0]\n",
    "\n",
    "for i in range(0,shpdata.shape[0]):\n",
    "    polygon = shpdata.geometry[i]\n",
    "    with rio.open(r'D:\\UAV_Data\\Weltwald\\Europa_BOT\\RGB\\20220614_MS_RGB_EU_BOT_85_85_V3_transparent_mosaic_group1.tif') as rasterdata:\n",
    "        out_crs = rasterdata.crs\n",
    "        feature = [polygon.__geo_interface__]\n",
    "        out_image,out_transform = mask(rasterdata,feature,all_touched=True,crop=True,nodata=255)\n",
    "        out_image_PIL = Image.fromarray(np.transpose(out_image,(1,2,0))).convert('RGB')\n",
    "        save_path = os.path.join(r'D:\\GIS_Data\\Weltwald\\test','raster_'+str(i)+'.tif')\n",
    "        out_image_PIL.save(save_path,quality=95,optimize=True,progressive=True)"
   ]
  }
 ],
 "metadata": {
  "kernelspec": {
   "display_name": "Python 3 (ipykernel)",
   "language": "python",
   "name": "python3"
  },
  "language_info": {
   "codemirror_mode": {
    "name": "ipython",
    "version": 3
   },
   "file_extension": ".py",
   "mimetype": "text/x-python",
   "name": "python",
   "nbconvert_exporter": "python",
   "pygments_lexer": "ipython3",
   "version": "3.10.9"
  }
 },
 "nbformat": 4,
 "nbformat_minor": 5
}
